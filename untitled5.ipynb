{
  "nbformat": 4,
  "nbformat_minor": 0,
  "metadata": {
    "colab": {
      "provenance": [],
      "authorship_tag": "ABX9TyMYGagn/z4ZdVJCoEG0KBhd",
      "include_colab_link": true
    },
    "kernelspec": {
      "name": "python3",
      "display_name": "Python 3"
    },
    "language_info": {
      "name": "python"
    }
  },
  "cells": [
    {
      "cell_type": "markdown",
      "metadata": {
        "id": "view-in-github",
        "colab_type": "text"
      },
      "source": [
        "<a href=\"https://colab.research.google.com/github/jpmorgan4/ML-foundations/blob/master/untitled5.ipynb\" target=\"_parent\"><img src=\"https://colab.research.google.com/assets/colab-badge.svg\" alt=\"Open In Colab\"/></a>"
      ]
    },
    {
      "cell_type": "code",
      "execution_count": null,
      "metadata": {
        "id": "4cpMCTOB36CM"
      },
      "outputs": [],
      "source": [
        "import sympy as sym\n",
        "import numpy as np\n",
        "from IPython.display import Math,display"
      ]
    },
    {
      "cell_type": "code",
      "source": [
        "x,y = sym.symbols ('x y')"
      ],
      "metadata": {
        "id": "Gj41b-NX4zcV"
      },
      "execution_count": null,
      "outputs": []
    },
    {
      "cell_type": "code",
      "source": [
        "funxy = (4+x)*(2-y)\n"
      ],
      "metadata": {
        "id": "Pny7rJN-7Wf5"
      },
      "execution_count": null,
      "outputs": []
    },
    {
      "cell_type": "code",
      "source": [
        "display(Math(sym.latex((sym.sympify(A)))))"
      ],
      "metadata": {
        "colab": {
          "base_uri": "https://localhost:8080/",
          "height": 78
        },
        "id": "tm-IrrtAJVdT",
        "outputId": "3b685de3-baf6-423a-ad10-667f41318bad"
      },
      "execution_count": null,
      "outputs": [
        {
          "output_type": "display_data",
          "data": {
            "text/plain": [
              "<IPython.core.display.Math object>"
            ],
            "text/latex": "$\\displaystyle \\left[\\begin{matrix}0 & 1\\\\2 & 3\\\\4 & 5\\end{matrix}\\right]$"
          },
          "metadata": {}
        }
      ]
    },
    {
      "cell_type": "code",
      "source": [
        "A=np.zeros([3,3])"
      ],
      "metadata": {
        "id": "P8gP9XYIL0Ds"
      },
      "execution_count": null,
      "outputs": []
    },
    {
      "cell_type": "code",
      "source": [
        "\n",
        "for rowi in range (0,3):\n",
        "  for coli in range (0,3):\n",
        "      x=rowi\n",
        "      y=coli\n",
        "      A [rowi,coli] = (4+rowi)*(2-coli)\n",
        "display(Math(sym.latex(sym.sympify(A))))"
      ],
      "metadata": {
        "id": "awx1MTHm7w4o",
        "colab": {
          "base_uri": "https://localhost:8080/",
          "height": 79
        },
        "outputId": "40598620-f89d-492d-867f-78a1a49c6862"
      },
      "execution_count": null,
      "outputs": [
        {
          "output_type": "display_data",
          "data": {
            "text/plain": [
              "<IPython.core.display.Math object>"
            ],
            "text/latex": "$\\displaystyle \\left[\\begin{matrix}8.0 & 4.0 & 0.0\\\\10.0 & 5.0 & 0.0\\\\12.0 & 6.0 & 0.0\\end{matrix}\\right]$"
          },
          "metadata": {}
        }
      ]
    }
  ]
}